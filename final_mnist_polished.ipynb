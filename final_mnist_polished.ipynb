{
 "cells": [
  {
   "cell_type": "code",
   "execution_count": null,
   "id": "539a30ad",
   "metadata": {},
   "outputs": [],
   "source": [
    "# Step 1: Import Libraries\n",
    "import numpy as np\n",
    "import matplotlib.pyplot as plt\n",
    "import seaborn as sns\n",
    "from sklearn.linear_model import LogisticRegression\n",
    "from sklearn.metrics import confusion_matrix, classification_report, accuracy_score\n",
    "import tensorflow as tf\n",
    "from tensorflow.keras.datasets import mnist\n",
    "from tensorflow.keras.models import Sequential\n",
    "from tensorflow.keras.layers import Conv2D, MaxPooling2D, Flatten, Dense, Dropout\n",
    "from tensorflow.keras.utils import to_categorical\n",
    "from tensorflow.keras.preprocessing.image import ImageDataGenerator\n",
    "from tensorflow.keras.callbacks import EarlyStopping, ReduceLROnPlateau"
   ]
  },
  {
   "cell_type": "code",
   "execution_count": null,
   "id": "cb13062f",
   "metadata": {},
   "outputs": [],
   "source": [
    "# Step 2: Load and Preprocess Data\n",
    "(x_train, y_train), (x_test, y_test) = mnist.load_data()\n",
    "x_train = x_train.reshape(-1, 28, 28, 1).astype('float32') / 255\n",
    "x_test = x_test.reshape(-1, 28, 28, 1).astype('float32') / 255\n",
    "y_train_cat = to_categorical(y_train, 10)\n",
    "y_test_cat = to_categorical(y_test, 10)\n",
    "\n",
    "# Show a 5x5 grid of MNIST digit samples\n",
    "plt.figure(figsize=(10, 5))\n",
    "for i in range(25):\n",
    "    plt.subplot(5, 5, i+1)\n",
    "    plt.imshow(x_train[i], cmap='gray')\n",
    "    plt.title(f\"Label: {y_train[i]}\")\n",
    "    plt.axis('off')\n",
    "plt.suptitle(\"Sample MNIST Digits\", y=1.02)\n",
    "plt.tight_layout()\n",
    "plt.show()\n",
    "\n",
    "\n",
    "# Bar chart showing how many samples per digit\n",
    "import collections\n",
    "\n",
    "mnist_counts = collections.Counter(y_train)\n",
    "plt.bar(mnist_counts.keys(), mnist_counts.values(), color=\"orange\")\n",
    "plt.title(\"MNIST Label Distribution\")\n",
    "plt.xlabel(\"Digit\")\n",
    "plt.ylabel(\"Count\")\n",
    "plt.xticks(range(10))\n",
    "plt.show()\n"
   ]
  },
  {
   "cell_type": "code",
   "execution_count": null,
   "id": "f3c00c52",
   "metadata": {},
   "outputs": [],
   "source": [
    "# Step 3: Logistic Regression Baseline (Flattened input)\n",
    "x_train_flat = x_train.reshape(len(x_train), -1)\n",
    "x_test_flat = x_test.reshape(len(x_test), -1)\n",
    "logreg = LogisticRegression(max_iter=1000)\n",
    "logreg.fit(x_train_flat, y_train)\n",
    "y_pred_log = logreg.predict(x_test_flat)\n",
    "print(\"Logistic Regression Accuracy:\", accuracy_score(y_test, y_pred_log))"
   ]
  },
  {
   "cell_type": "code",
   "execution_count": null,
   "id": "9a04c267",
   "metadata": {},
   "outputs": [],
   "source": [
    "from sklearn.metrics import classification_report\n",
    "\n",
    "print(\"Logistic Regression Classification Report:\")\n",
    "print(classification_report(y_test, y_pred_log, digits=4))\n"
   ]
  },
  {
   "cell_type": "code",
   "execution_count": null,
   "id": "4fd9f4fd",
   "metadata": {},
   "outputs": [],
   "source": [
    "# Step 4: Data Augmentation\n",
    "datagen = ImageDataGenerator(\n",
    "    rotation_range=10,\n",
    "    zoom_range=0.1,\n",
    "    width_shift_range=0.1,\n",
    "    height_shift_range=0.1\n",
    ")\n",
    "datagen.fit(x_train)"
   ]
  },
  {
   "cell_type": "code",
   "execution_count": null,
   "id": "4a2f9b18",
   "metadata": {},
   "outputs": [],
   "source": [
    "# Step 5: Build CNN Model\n",
    "model = Sequential([\n",
    "    Conv2D(32, (3, 3), activation='relu', input_shape=(28, 28, 1)),\n",
    "    MaxPooling2D(2, 2),\n",
    "    Conv2D(64, (3, 3), activation='relu'),\n",
    "    MaxPooling2D(2, 2),\n",
    "    Flatten(),\n",
    "    Dense(128, activation='relu'),\n",
    "    Dropout(0.5),\n",
    "    Dense(10, activation='softmax')\n",
    "])"
   ]
  },
  {
   "cell_type": "code",
   "execution_count": null,
   "id": "913332a0",
   "metadata": {},
   "outputs": [],
   "source": [
    "# Step 6: Compile the Model\n",
    "model.compile(optimizer='adam', loss='categorical_crossentropy', metrics=['accuracy'])\n"
   ]
  },
  {
   "cell_type": "code",
   "execution_count": null,
   "id": "c747c3b9",
   "metadata": {},
   "outputs": [],
   "source": [
    "early_stop = EarlyStopping(patience=3, restore_best_weights=True)\n",
    "model_ckpt = ModelCheckpoint('best_emnist_model.keras', save_best_only=True)\n",
    "reduce_lr = ReduceLROnPlateau(monitor='val_loss', factor=0.5, patience=2)\n",
    "callbacks = [early_stop, reduce_lr, model_ckpt]"
   ]
  },
  {
   "cell_type": "code",
   "execution_count": null,
   "id": "8e802c06",
   "metadata": {},
   "outputs": [],
   "source": [
    "# Step 7: Train the Model with Augmentation\n",
    "history = model.fit(datagen.flow(x_train, y_train_cat, batch_size=64),\n",
    "                    validation_data=(x_test, y_test_cat),\n",
    "                    epochs=25,\n",
    "                    callbacks=callbacks)"
   ]
  },
  {
   "cell_type": "code",
   "execution_count": null,
   "id": "4c8345c7",
   "metadata": {},
   "outputs": [],
   "source": [
    "# Step 8: Evaluate the Model\n",
    "test_loss, test_acc = model.evaluate(x_test, y_test_cat)\n",
    "print(f\"CNN Test Accuracy: {test_acc:.4f}\")"
   ]
  },
  {
   "cell_type": "code",
   "execution_count": null,
   "id": "fbb32746",
   "metadata": {},
   "outputs": [],
   "source": [
    "# Step 9: Accuracy/Loss Plots\n",
    "plt.figure()\n",
    "plt.plot(history.history['accuracy'], label='Train')\n",
    "plt.plot(history.history['val_accuracy'], label='Val')\n",
    "plt.title('Accuracy vs. Epoch')\n",
    "plt.xlabel('Epoch')\n",
    "plt.ylabel('Accuracy')\n",
    "plt.legend()\n",
    "plt.show()\n",
    "\n",
    "plt.figure()\n",
    "plt.plot(history.history['loss'], label='Train')\n",
    "plt.plot(history.history['val_loss'], label='Val')\n",
    "plt.title('Loss vs. Epoch')\n",
    "plt.xlabel('Epoch')\n",
    "plt.ylabel('Loss')\n",
    "plt.legend()\n",
    "plt.show()\n"
   ]
  },
  {
   "cell_type": "code",
   "execution_count": null,
   "id": "e288115a",
   "metadata": {},
   "outputs": [],
   "source": [
    "# Step 10: Confusion Matrix and Classification Report\n",
    "y_pred_cnn = model.predict(x_test).argmax(axis=1)\n",
    "cm = confusion_matrix(y_test, y_pred_cnn)\n",
    "plt.figure(figsize=(6,6))\n",
    "sns.heatmap(cm, annot=True, fmt='d', cbar=False)\n",
    "plt.title('CNN Confusion Matrix')\n",
    "plt.xlabel('Predicted')\n",
    "plt.ylabel('True')\n",
    "plt.show()\n",
    "\n",
    "print(\"CNN Classification Report:\")\n",
    "print(classification_report(y_test, y_pred_cnn, digits=4))"
   ]
  },
  {
   "cell_type": "code",
   "execution_count": null,
   "id": "685e8a33",
   "metadata": {},
   "outputs": [],
   "source": [
    "# Step 11: Visualize First Conv2D Filters\n",
    "filters, _ = model.layers[0].get_weights()\n",
    "filters = (filters - filters.min()) / (filters.max() - filters.min())\n",
    "plt.figure(figsize=(8,4))\n",
    "for i in range(6):\n",
    "    plt.subplot(1,6,i+1)\n",
    "    plt.imshow(filters[:, :, 0, i], cmap='gray')\n",
    "    plt.axis('off')\n",
    "plt.suptitle('First-layer convolutional filters')\n",
    "plt.show()"
   ]
  },
  {
   "cell_type": "code",
   "execution_count": null,
   "id": "f43a260b",
   "metadata": {},
   "outputs": [],
   "source": [
    "\n",
    "\n",
    "# Step 12: Misclassified Examples\n",
    "mis = np.where(y_pred_cnn != y_test)[0][:25]\n",
    "plt.figure(figsize=(10,10))\n",
    "for idx, wrong in enumerate(mis):\n",
    "    ax = plt.subplot(5,5,idx+1)\n",
    "    plt.imshow(x_test[wrong].reshape(28,28), cmap='gray')\n",
    "    plt.title(f'True:{y_test[wrong]} Pred:{y_pred_cnn[wrong]}')\n",
    "    plt.axis('off')\n",
    "plt.tight_layout()\n",
    "plt.show()\n"
   ]
  },
  {
   "cell_type": "markdown",
   "id": "f4e6d3d8",
   "metadata": {},
   "source": [
    "## 🎯 F1 Score Evaluation"
   ]
  },
  {
   "cell_type": "code",
   "execution_count": null,
   "id": "ae0d3452",
   "metadata": {},
   "outputs": [],
   "source": [
    "from sklearn.metrics import f1_score\n",
    "f1 = f1_score(y_test, y_pred_classes, average='weighted')\n",
    "print(f\"Weighted F1 Score: {f1:.4f}\")"
   ]
  }
 ],
 "metadata": {
  "kernelspec": {
   "display_name": ".venv",
   "language": "python",
   "name": "python3"
  },
  "language_info": {
   "codemirror_mode": {
    "name": "ipython",
    "version": 3
   },
   "file_extension": ".py",
   "mimetype": "text/x-python",
   "name": "python",
   "nbconvert_exporter": "python",
   "pygments_lexer": "ipython3",
   "version": "3.12.0"
  }
 },
 "nbformat": 4,
 "nbformat_minor": 5
}
